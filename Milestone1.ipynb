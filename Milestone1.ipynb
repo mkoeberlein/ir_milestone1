{
 "cells": [
  {
   "cell_type": "markdown",
   "id": "742adba1-54cd-47b6-b445-d82cb2250c64",
   "metadata": {},
   "source": [
    "# When You Order Google Scholar on Wish: Milestone 1"
   ]
  },
  {
   "cell_type": "code",
   "execution_count": 1,
   "id": "648bc41f",
   "metadata": {
    "scrolled": false
   },
   "outputs": [
    {
     "name": "stdout",
     "output_type": "stream",
     "text": [
      "Requirement already satisfied: jsonlines in /opt/conda/lib/python3.7/site-packages (3.1.0)\n",
      "Requirement already satisfied: attrs>=19.2.0 in /opt/conda/lib/python3.7/site-packages (from jsonlines) (22.2.0)\n",
      "Requirement already satisfied: typing-extensions in /opt/conda/lib/python3.7/site-packages (from jsonlines) (4.1.1)\n",
      "\u001b[33mWARNING: Running pip as the 'root' user can result in broken permissions and conflicting behaviour with the system package manager. It is recommended to use a virtual environment instead: https://pip.pypa.io/warnings/venv\u001b[0m\n",
      "Note: you may need to restart the kernel to use updated packages.\n"
     ]
    }
   ],
   "source": [
    "pip install jsonlines"
   ]
  },
  {
   "cell_type": "markdown",
   "id": "c0826e41",
   "metadata": {},
   "source": [
    "This step ensures that the jsonlines library, which we will use to streamline the transformation process, is installed."
   ]
  },
  {
   "cell_type": "code",
   "execution_count": 2,
   "id": "25fa832d-c0ed-41dd-b4a9-68580c1ae974",
   "metadata": {
    "scrolled": false
   },
   "outputs": [],
   "source": [
    "import jsonlines\n",
    "import json\n",
    "\n",
    "with jsonlines.open('ir-anthology-07-11-2021-ss23.jsonl', mode = 'r') as reader, jsonlines.open('anthology_documents.jsonl', mode ='w') as writer:\n",
    "    for obj in reader:\n",
    "        doc_id = obj['id']\n",
    "        del obj['id']\n",
    "        text = str(obj)\n",
    "        text = text.replace(\"{\", \"\").replace(\"}\", \"\")\n",
    "        new_obj = {\n",
    "            \"doc_id\": doc_id,\n",
    "            \"text\": text,\n",
    "        }\n",
    "\n",
    "        writer.write(new_obj)"
   ]
  },
  {
   "cell_type": "markdown",
   "id": "e42ac353",
   "metadata": {},
   "source": [
    "In the above code snippet, the raw `ir-anthology` data is loaded from a locally save `jsonl` file as a read-only stream so it can be processed one object (i.e. one line) at a time.\n",
    "A second stream creates a new file named `anthology_documents.jsonl` in the same directory - this is where the processed data will be written to.\n",
    "\n",
    "Next, the transformation process begins. For each line in the original file, the value of the `id` key is extracted and stored in the `doc_id` variable. The entire `id` property is then removed from the line. The remaining line is cast to string, consolidating all remaining attributes into a singular string named `text`. \n",
    "\n",
    "Next, the `{` and `}` characters are removed from the string. Since curly brackets demarcate objects in `jsonl` files, they should not be present within the `text` value.\n",
    "\n",
    "Finally, the new line - consisting of the properties `doc_id` and `text` - is written to the output file.\n",
    "\n",
    "This process is repeated for all lines of the original file. Due to the use of the keyword `with`, it is not necessary to close the files afterwards."
   ]
  },
  {
   "cell_type": "markdown",
   "id": "e4bcc247-ee10-4db4-ac59-876377b5ce9c",
   "metadata": {},
   "source": [
    "## Reflections"
   ]
  },
  {
   "cell_type": "markdown",
   "id": "6dde5e31",
   "metadata": {},
   "source": [
    "### Alicja\n",
    "\n",
    "From my standpoint the beginning did give a vague idea what we are supposed to do as a group. It was manageable to get docker and TIRA going. Than creating a docker image etc was very confusing. There was not really any clear method to follow how to proceed with the next tasks. It felt like it was a constant road of just feeling confused and lost a bit in the given material. "
   ]
  },
  {
   "cell_type": "markdown",
   "id": "4f8c3998",
   "metadata": {},
   "source": [
    "### Ezra\n",
    "\n",
    "Working on the first milestone was difficult. Not having any experience with using TIRA and docker beforehand, I struggled with the tutorial, especially integrating the new dataset into TIRA. We also came across multiple unclear instructions and tutorials. In retrospective, we would have benefited from an extra Q&A Session later on. This would have helped us with clearing up questions about how certain parts of the assignment was to be interpreted, as well as continued errors we couldn’t fix.  \n",
    "From this milestone I have learned a part of the fundamental basics about working with docker, as well as refreshed my Python programming skills, but at this point I am still struggling with understanding TIRA."
   ]
  },
  {
   "cell_type": "markdown",
   "id": "80b611b8",
   "metadata": {},
   "source": [
    "### Fey\n",
    "\n",
    "Working on this notebook was confusing because I was very unsure of what we were\n",
    "supposed to be doing. It took a few weeks of both lecture and tutorial content, as well as\n",
    "discussing among ourselves to navigate what we perceived to be conflicting information\n",
    "on all sides. Navigating the documentation of the software and tutorials was also tricking\n",
    "as we found it to be quite incomplete. Deciding and formulating a topic was fairly simple\n",
    "and intuitive. I am still feeling a bit unsure regarding the future milestones and hope\n",
    "future lectures will clear this up for me."
   ]
  },
  {
   "cell_type": "markdown",
   "id": "d711ed34",
   "metadata": {},
   "source": [
    "### Greta\n",
    "\n",
    "Most problems came with unknown tools like docker and Tira. We were able to follow the tutorial up to the point were we should upload a new dataset to TIRA. But there were just too many different tutorials and it was unclear e.g. which image is needed now or what do we have to change in the pangram example image. So there isn’t enough time in the end to ask those questions, so we would have needed another Q&A session. Also many problems were build around different interpretations of the tasks, so what is really asked from us for the first milestone and what we should upload to Tira (e.g just the notebook or the notebook and the python code, ...)."
   ]
  },
  {
   "cell_type": "markdown",
   "id": "b9f5a2e6",
   "metadata": {},
   "source": [
    "### Luisa\n",
    "The first hurdle for me was the unknown format of the jsonl document and how to access the individual keys and values. Thanks to the group, this was a solvable task. Furthermore, I found the various guidelines to a certain degree helpful for getting started but quite quickly became confused about how to actually upload our work and what should be entailed in it. A clear instruction and goal as well as showing the steps in the course and explaining obstacles not only for Linux-based operating systems would be helpful and appreciated."
   ]
  },
  {
   "cell_type": "markdown",
   "id": "bbe24b73",
   "metadata": {},
   "source": [
    "### Mirjam\n",
    "The task itself - formulating topics and processing the data - was very straightforward. Having previous experience with both python and Jupyter Notebook did not hurt, of course.\n",
    "Nonetheless, this first milestone was a challenge - not because of the actual task, but rather due to the everything surrounding it. \n",
    "Installing and familiarising myself with docker was doable, although it took me longer than expected as I had to adjust the syntax of most of the commands to make them work on my machine (the bane of the Windows user...).\n",
    "\n",
    "The TIRA tutorial, however, was another matter. I felt that it did not offer enough guidance for the crucial step of registering the data set. It essentially just said to use the `pangrams.py` file as a template, but I think some comments in the code would have been helpful for that. I have to admit that I was on the brink of dropping out of the module entirely when I could still not get it to work by Monday night.\n",
    "\n",
    "That being said, I was very grateful for the swift responses on the TIRA forum. I also appreciate that - after it became clear that many students were struggling with this - a new, more comprehensive repository was provided at short notice, and that the matter was clarified in the lab session.\n",
    "\n",
    "The group aspect of the task worked out well - we helped each other with our docker installations and tried to figure out the TIRA tutorial together (and, although we could not fully get it to work, this group session was still more fruitful than if each of us had tried to figure it out on their own)."
   ]
  }
 ],
 "metadata": {
  "kernelspec": {
   "display_name": "Python 3 (ipykernel)",
   "language": "python",
   "name": "python3"
  },
  "language_info": {
   "codemirror_mode": {
    "name": "ipython",
    "version": 3
   },
   "file_extension": ".py",
   "mimetype": "text/x-python",
   "name": "python",
   "nbconvert_exporter": "python",
   "pygments_lexer": "ipython3",
   "version": "3.7.13"
  }
 },
 "nbformat": 4,
 "nbformat_minor": 5
}
